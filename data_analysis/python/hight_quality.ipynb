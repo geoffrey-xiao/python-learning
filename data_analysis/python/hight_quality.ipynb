{
 "cells": [
  {
   "cell_type": "code",
   "execution_count": 1,
   "id": "f108fded",
   "metadata": {},
   "outputs": [],
   "source": [
    "with open('hight_quality.md') as f:\n",
    "    lines = f.readline()"
   ]
  },
  {
   "cell_type": "code",
   "execution_count": 4,
   "id": "6a2b1162",
   "metadata": {},
   "outputs": [
    {
     "ename": "SyntaxError",
     "evalue": "invalid syntax (<ipython-input-4-f74bb570d90d>, line 1)",
     "output_type": "error",
     "traceback": [
      "\u001b[1;36m  File \u001b[1;32m\"<ipython-input-4-f74bb570d90d>\"\u001b[1;36m, line \u001b[1;32m1\u001b[0m\n\u001b[1;33m    {{<video controls src = 'high_quality.mp4' width = '500' height = '340' />}}\u001b[0m\n\u001b[1;37m      ^\u001b[0m\n\u001b[1;31mSyntaxError\u001b[0m\u001b[1;31m:\u001b[0m invalid syntax\n"
     ]
    }
   ],
   "source": [
    "{{<video controls src = 'high_quality.mp4' width = '500' height = '340' />}}"
   ]
  },
  {
   "cell_type": "code",
   "execution_count": 4,
   "id": "d0a9a900",
   "metadata": {},
   "outputs": [
    {
     "name": "stderr",
     "output_type": "stream",
     "text": [
      "UsageError: %%markdown is a cell magic, but the cell body is empty.\n"
     ]
    }
   ],
   "source": [
    "%%markdown <video controls src = 'high_quality.mp4' width = '500' height = '340' />"
   ]
  },
  {
   "cell_type": "code",
   "execution_count": 5,
   "id": "e1bedfc0",
   "metadata": {},
   "outputs": [
    {
     "ename": "NameError",
     "evalue": "name 'Markdown' is not defined",
     "output_type": "error",
     "traceback": [
      "\u001b[1;31m---------------------------------------------------------------------------\u001b[0m",
      "\u001b[1;31mNameError\u001b[0m                                 Traceback (most recent call last)",
      "\u001b[1;32m<ipython-input-5-d6040302ab39>\u001b[0m in \u001b[0;36m<module>\u001b[1;34m\u001b[0m\n\u001b[1;32m----> 1\u001b[1;33m \u001b[0mMarkdown\u001b[0m\u001b[1;33m(\u001b[0m\u001b[1;33m)\u001b[0m\u001b[1;33m\u001b[0m\u001b[1;33m\u001b[0m\u001b[0m\n\u001b[0m",
      "\u001b[1;31mNameError\u001b[0m: name 'Markdown' is not defined"
     ]
    }
   ],
   "source": []
  },
  {
   "cell_type": "code",
   "execution_count": 9,
   "id": "2522549d",
   "metadata": {},
   "outputs": [],
   "source": [
    "from IPython.display import display, Markdown"
   ]
  },
  {
   "cell_type": "code",
   "execution_count": 22,
   "id": "42a2995a",
   "metadata": {},
   "outputs": [],
   "source": [
    "x = Markdown(filename='hight_quality.md')"
   ]
  },
  {
   "cell_type": "code",
   "execution_count": 26,
   "id": "44be52ee",
   "metadata": {},
   "outputs": [],
   "source": [
    "def singing():\n",
    "    print('''   \n",
    "        🤓\n",
    "      [📳 ■◣\n",
    "     /ア|□■\\\\◣\n",
    "      /■—◥■◤\n",
    "     /■ | 👈■\n",
    "      / /| |\n",
    "      \\\\\\\\  \\\\\\\\\\\n",
    "\n",
    "       \\\\\\\\  \\\\\\\\\\\n",
    "\n",
    "     ◢■ ◢■\n",
    "     我晒干了沉默~♪\n",
    "     悔得很冲动~♫\n",
    "     就算这是做错~♬\n",
    "     也只是怕错过~♩\n",
    "     在一起 叫 梦~♫\n",
    "     分开了 叫 痛~♫\n",
    "     是不是说没有做完  的  梦  最  痛~♪\n",
    "     ''')\n",
    "    from IPython.display import Markdown\n",
    "    return Markdown(filename='hight_quality.md')"
   ]
  },
  {
   "cell_type": "code",
   "execution_count": 27,
   "id": "6d08eb4f",
   "metadata": {
    "scrolled": true
   },
   "outputs": [
    {
     "name": "stdout",
     "output_type": "stream",
     "text": [
      "   \n",
      "        🤓\n",
      "      [📳 ■◣\n",
      "     /ア|□■\\◣\n",
      "      /■—◥■◤\n",
      "     /■ | 👈■\n",
      "      / /| |\n",
      "      \\\\  \\\\\n",
      "       \\\\  \\\\\n",
      "     ◢■ ◢■\n",
      "     我晒干了沉默~♪\n",
      "     悔得很冲动~♫\n",
      "     就算这是做错~♬\n",
      "     也只是怕错过~♩\n",
      "     在一起 叫 梦~♫\n",
      "     分开了 叫 痛~♫\n",
      "     是不是说没有做完  的  梦  最  痛~♪\n",
      "     \n"
     ]
    },
    {
     "data": {
      "text/markdown": [
       "<video controls src = 'high_quality.mp4' width = '500' height = '340' />"
      ],
      "text/plain": [
       "<IPython.core.display.Markdown object>"
      ]
     },
     "execution_count": 27,
     "metadata": {},
     "output_type": "execute_result"
    }
   ],
   "source": [
    "singing()"
   ]
  },
  {
   "cell_type": "code",
   "execution_count": 14,
   "id": "d654aa7c",
   "metadata": {},
   "outputs": [],
   "source": [
    "def t():\n",
    "    import IPython\n",
    "    print('聊天语音1：')\n",
    "    IPython.display.Audio('your_dad.mp3')"
   ]
  },
  {
   "cell_type": "code",
   "execution_count": 16,
   "id": "d114cea8",
   "metadata": {
    "scrolled": true
   },
   "outputs": [
    {
     "name": "stdout",
     "output_type": "stream",
     "text": [
      "聊天语音1：\n"
     ]
    }
   ],
   "source": [
    "t()"
   ]
  }
 ],
 "metadata": {
  "kernelspec": {
   "display_name": "Python 3",
   "language": "python",
   "name": "python3"
  },
  "language_info": {
   "codemirror_mode": {
    "name": "ipython",
    "version": 3
   },
   "file_extension": ".py",
   "mimetype": "text/x-python",
   "name": "python",
   "nbconvert_exporter": "python",
   "pygments_lexer": "ipython3",
   "version": "3.8.8"
  },
  "toc": {
   "base_numbering": 1,
   "nav_menu": {},
   "number_sections": true,
   "sideBar": true,
   "skip_h1_title": false,
   "title_cell": "Table of Contents",
   "title_sidebar": "Contents",
   "toc_cell": false,
   "toc_position": {},
   "toc_section_display": true,
   "toc_window_display": false
  }
 },
 "nbformat": 4,
 "nbformat_minor": 5
}
